{
 "cells": [
  {
   "cell_type": "code",
   "execution_count": 1,
   "id": "8b8a58d9-d8da-4fc8-a269-d990b9bfbb97",
   "metadata": {},
   "outputs": [
    {
     "name": "stdout",
     "output_type": "stream",
     "text": [
      "Collecting Sastrawi\n",
      "  Downloading Sastrawi-1.0.1-py2.py3-none-any.whl.metadata (909 bytes)\n",
      "Downloading Sastrawi-1.0.1-py2.py3-none-any.whl (209 kB)\n",
      "Installing collected packages: Sastrawi\n",
      "Successfully installed Sastrawi-1.0.1\n"
     ]
    }
   ],
   "source": [
    "!pip install Sastrawi"
   ]
  },
  {
   "cell_type": "code",
   "execution_count": 3,
   "id": "d1778a43-fd36-4c12-bc9a-8e59deea740f",
   "metadata": {},
   "outputs": [
    {
     "name": "stdout",
     "output_type": "stream",
     "text": [
      "Case Folding : barangnya sesuai harapan, cakep dan mulus. penjualnya juga baik dan ramah. overall, puas banget belanja di sini.\n"
     ]
    }
   ],
   "source": [
    " documen1=\"Barangnya sesuai harapan, cakep dan mulus. Penjualnya juga baik dan ramah. Overall, puas banget belanja di sini.\"  \n",
    "\n",
    "hasil_cf = str.lower(documen1)  \n",
    "print(\"Case Folding : \"+hasil_cf); "
   ]
  },
  {
   "cell_type": "code",
   "execution_count": 5,
   "id": "09b6bc40-1c49-4aac-996f-212edd18c7c4",
   "metadata": {},
   "outputs": [
    {
     "name": "stdout",
     "output_type": "stream",
     "text": [
      "Case Folding : barangnya sesuai harapan, cakep dan mulus. penjualnya juga baik dan ramah. overall, puas banget belanjā di sini.\n",
      "Token:\n",
      "['barangnya', 'sesuai', 'harapan', 'cakep', 'dan', 'mulus', 'penjualnya', 'juga', 'baik', 'dan', 'ramah', 'overall', 'puas', 'banget', 'belanjā', 'di', 'sini']\n"
     ]
    }
   ],
   "source": [
    "dokumen1=\"Barangnya sesuai harapan, cakep dan mulus. Penjualnya juga baik dan ramah. Overall, puas banget belanjā di sini.\"  \n",
    "  \n",
    "hasil_cf = str.lower(dokumen1)  \n",
    "print(\"Case Folding : \"+hasil_cf);  \n",
    "\n",
    " \n",
    "from nltk.tokenize import RegexpTokenizer  \n",
    "tokenizer = RegexpTokenizer(r'\\w+')  \n",
    "hasil_token = tokenizer.tokenize(hasil_cf)  \n",
    "print(\"Token:\")  \n",
    "print (hasil_token)"
   ]
  },
  {
   "cell_type": "code",
   "execution_count": 7,
   "id": "5fd09ae3-89a8-48be-9080-d34bc231d7dc",
   "metadata": {},
   "outputs": [
    {
     "name": "stdout",
     "output_type": "stream",
     "text": [
      "Case Folding : barangnya sesuai harapan, cakep dan mulus. penjualnya juga baik dan ramah. overall, puss banget belanja di sini.\n",
      "Token:\n",
      "['barangnya', 'sesuai', 'harapan', 'cakep', 'dan', 'mulus', 'penjualnya', 'juga', 'baik', 'dan', 'ramah', 'overall', 'puss', 'banget', 'belanja', 'di', 'sini']\n",
      "Hasil Stemming:\n",
      "barang sesuai harap cakep dan mulus jual juga baik dan ramah overall puss banget belanja di sini\n"
     ]
    }
   ],
   "source": [
    "dokumen1 = \"Barangnya sesuai harapan, cakep dan mulus. Penjualnya juga baik dan ramah. Overall, puss banget belanja di sini.\"  \n",
    "\n",
    " \n",
    "hasil_cf = str.lower(dokumen1)  \n",
    "print(\"Case Folding : \" + hasil_cf)  \n",
    "\n",
    "\n",
    "from nltk.tokenize import RegexpTokenizer  \n",
    "tokenizer = RegexpTokenizer(r'\\w+')  \n",
    "hasil_token = tokenizer.tokenize(hasil_cf)  \n",
    "print(\"Token:\")  \n",
    "print(hasil_token)  \n",
    "\n",
    "  \n",
    "from Sastrawi.Stemmer.StemmerFactory import StemmerFactory \n",
    "factory = StemmerFactory()  \n",
    "stemmer = factory.create_stemmer()  \n",
    "input_stem = ' '.join(hasil_token)  \n",
    "hasil_stem = stemmer.stem(input_stem) \n",
    "print(\"Hasil Stemming:\")  \n",
    "print(hasil_stem) "
   ]
  }
 ],
 "metadata": {
  "kernelspec": {
   "display_name": "Python [conda env:base] *",
   "language": "python",
   "name": "conda-base-py"
  },
  "language_info": {
   "codemirror_mode": {
    "name": "ipython",
    "version": 3
   },
   "file_extension": ".py",
   "mimetype": "text/x-python",
   "name": "python",
   "nbconvert_exporter": "python",
   "pygments_lexer": "ipython3",
   "version": "3.12.7"
  }
 },
 "nbformat": 4,
 "nbformat_minor": 5
}
